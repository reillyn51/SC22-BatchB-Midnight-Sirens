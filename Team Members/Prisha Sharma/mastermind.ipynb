{
 "cells": [
  {
   "cell_type": "markdown",
   "metadata": {
    "collapsed": false
   },
   "source": [
    "### from random import randint\n",
    "\n",
    "guess = int(input(\"Enter a 4 digit number: \"))\n",
    "random_num = randint(1000, 10000)\n",
    "count = 0\n",
    "\n",
    "if guess > random_num:\n",
    "    print(\"Too High\")\n",
    "elif guess == random_num:\n",
    "        print(f\"Good Job, you had {count} guess(es)\")\n",
    "else:\n",
    "    print(\"Too Low\")\n",
    "\n",
    "while guess != random_num:\n",
    "    guess = int(input(\"Enter a 4 digit number: \"))\n",
    "    random_num = int(random_num)\n",
    "    if guess > random_num:\n",
    "        print(\"Too High\")\n",
    "    else:\n",
    "        print(\"Too Low\")\n",
    "\n",
    "    guess_str = list(str(guess))\n",
    "    random_str = list(str(random_num))\n",
    "\n",
    "    for i in range(len(guess_str)):\n",
    "        if random_str[i] != guess_str[i]:\n",
    "            guess_str[i] = \"X\"\n",
    "        print(guess_str)\n",
    "    print(random_num)\n",
    "    count = count + 1\n",
    "\n"
   ]
  },
  {
   "cell_type": "code",
   "execution_count": 0,
   "metadata": {
    "collapsed": false
   },
   "outputs": [
   ],
   "source": [
    "from random import randint\n",
    "\n",
    "guess = int(input(\"Enter a 4 digit number: \"))\n",
    "random_num = randint(1000, 10000)\n",
    "count = 1\n",
    "\n",
    "if guess > random_num:\n",
    "    print(\"Too High\")\n",
    "elif guess == random_num:\n",
    "        print(f\"Good Job, you had {count} guess(es)!\")\n",
    "else:\n",
    "    print(\"Too Low\")\n",
    "\n",
    "while guess != random_num:\n",
    "    guess = int(input(\"Enter a 4 digit number: \"))\n",
    "    random_num = int(random_num)\n",
    "    if guess > random_num:\n",
    "        print(\"Too High\")\n",
    "    elif guess == random_num:\n",
    "        print(f\"Good Job, you had {count} guess(es)!\")\n",
    "    else:\n",
    "        print(\"Too Low\")\n",
    "\n",
    "    guess_str = list(str(guess))\n",
    "    random_str = list(str(random_num))\n",
    "\n",
    "    for i in range(len(guess_str)):\n",
    "        if random_str[i] != guess_str[i]:\n",
    "            guess_str[i] = \"X\"\n",
    "        print(guess_str)\n",
    "    print(random_num)\n",
    "    count = count + 1\n",
    "\n",
    "\n",
    "\n",
    "\n",
    "\n",
    "\n",
    "\n",
    "\n",
    "\n"
   ]
  }
 ],
 "metadata": {
  "kernelspec": {
   "display_name": "Python (cv_env)",
   "language": "python",
   "metadata": {
    "debugger": true
   },
   "name": "cv_env",
   "resource_dir": "/projects/07cb54a4-9729-4508-ad4f-95fc7891551c/.local/share/jupyter/kernels/cv_env"
  },
  "language_info": {
   "codemirror_mode": {
    "name": "ipython",
    "version": 3
   },
   "file_extension": ".py",
   "mimetype": "text/x-python",
   "name": "python",
   "nbconvert_exporter": "python",
   "pygments_lexer": "ipython3",
   "version": "3.8.13"
  }
 },
 "nbformat": 4,
 "nbformat_minor": 4
}