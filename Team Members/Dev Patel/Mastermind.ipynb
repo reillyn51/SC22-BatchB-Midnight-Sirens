{
 "cells": [
  {
   "cell_type": "markdown",
   "metadata": {
    "collapsed": false,
    "id": "FIl5ePMRnNbH"
   },
   "source": [
    "# Welcome to **MASTERMIND**\n",
    "\n",
    "Today we will be creating Mastermind, a classic game similar to Wordle. The steps of Mastermind are as follows:\n",
    "\n",
    "*   The computer plays first by setting a 4-digit number.\n",
    "*   The user now tries their first attempt at guessing the number.\n",
    "*   If the user succeeds in their first attempt (despite odds which are highly unlikely) they win the game and is crowned Mastermind! If not, then the computer hints by revealing which digits or numbers the user got correct.\n",
    "*   The game continues till the user eventually is able to guess the number entirely.\n",
    "\n"
   ]
  },
  {
   "cell_type": "code",
   "execution_count": 5,
   "metadata": {
    "cocalc": {
     "outputs": {
      "0": {
       "name": "input",
       "opts": {
        "password": false,
        "prompt": "Guess 1: "
       },
       "output_type": "stream",
       "value": "1841"
      },
      "12": {
       "name": "input",
       "opts": {
        "password": false,
        "prompt": "Guess 7: "
       },
       "output_type": "stream",
       "value": "6666"
      },
      "14": {
       "name": "input",
       "opts": {
        "password": false,
        "prompt": "Guess 8: "
       },
       "output_type": "stream",
       "value": "7777"
      },
      "16": {
       "name": "input",
       "opts": {
        "password": false,
        "prompt": "Guess 9: "
       },
       "output_type": "stream",
       "value": "8888"
      },
      "18": {
       "name": "input",
       "opts": {
        "password": false,
        "prompt": "Guess 10: "
       },
       "output_type": "stream",
       "value": "9999"
      },
      "2": {
       "name": "input",
       "opts": {
        "password": false,
        "prompt": "Guess 2: "
       },
       "output_type": "stream",
       "value": "1111"
      },
      "3": {
       "name": "input",
       "opts": {
        "password": false,
        "prompt": "Guess 3: "
       },
       "output_type": "stream"
      },
      "6": {
       "name": "input",
       "opts": {
        "password": false,
        "prompt": "Guess 4: "
       },
       "output_type": "stream",
       "value": "3333"
      },
      "8": {
       "name": "input",
       "opts": {
        "password": false,
        "prompt": "Guess 5: "
       },
       "output_type": "stream",
       "value": "4444"
      },
      "9": {
       "name": "input",
       "opts": {
        "password": false,
        "prompt": "Guess 6: "
       },
       "output_type": "stream"
      }
     }
    },
    "collapsed": false,
    "id": "djIIncFBFQ1_"
   },
   "outputs": [
    {
     "name": "stdout",
     "output_type": "stream",
     "text": "Guess 1:  1841"
    },
    {
     "name": "stdout",
     "output_type": "stream",
     "text": [
      "Answer so far: XXXX \n"
     ]
    },
    {
     "name": "stdout",
     "output_type": "stream",
     "text": "Guess 2:  1111"
    },
    {
     "name": "stdout",
     "output_type": "stream",
     "text": "Guess 3:  "
    },
    {
     "name": "stdout",
     "output_type": "stream",
     "text": [
      "Answer so far: XXXX \n"
     ],
     "value": "2222"
    },
    {
     "name": "stdout",
     "output_type": "stream",
     "text": [
      "Answer so far: XX2X \n"
     ]
    },
    {
     "name": "stdout",
     "output_type": "stream",
     "text": "Guess 4:  3333"
    },
    {
     "name": "stdout",
     "output_type": "stream",
     "text": [
      "Answer so far: XX23 \n"
     ]
    },
    {
     "name": "stdout",
     "output_type": "stream",
     "text": "Guess 5:  4444"
    },
    {
     "name": "stdout",
     "output_type": "stream",
     "text": "Guess 6:  "
    },
    {
     "name": "stdout",
     "output_type": "stream",
     "text": [
      "Answer so far: XX23 \n"
     ],
     "value": "5555"
    },
    {
     "name": "stdout",
     "output_type": "stream",
     "text": [
      "Answer so far: XX23 \n"
     ]
    },
    {
     "name": "stdout",
     "output_type": "stream",
     "text": "Guess 7:  6666"
    },
    {
     "name": "stdout",
     "output_type": "stream",
     "text": [
      "Answer so far: XX23 \n"
     ]
    },
    {
     "name": "stdout",
     "output_type": "stream",
     "text": "Guess 8:  7777"
    },
    {
     "name": "stdout",
     "output_type": "stream",
     "text": [
      "Answer so far: XX23 \n"
     ]
    },
    {
     "name": "stdout",
     "output_type": "stream",
     "text": "Guess 9:  8888"
    },
    {
     "name": "stdout",
     "output_type": "stream",
     "text": [
      "Answer so far: XX23 \n"
     ]
    },
    {
     "name": "stdout",
     "output_type": "stream",
     "text": "Guess 10:  9999"
    },
    {
     "name": "stdout",
     "output_type": "stream",
     "text": [
      "Congratulations! You got the answer in 10 attempt(s): 9923 \n"
     ]
    }
   ],
   "source": [
    "### import random\n",
    "\n",
    "def start_game():\n",
    "    true_val = str(random.randint(1000, 9999))\n",
    "\n",
    "    true_val = [i for i in str(true_val)]\n",
    "    guess = ['X' for _ in range(len(true_val))]\n",
    "    guess_num = 1\n",
    "\n",
    "    all_guesses = []\n",
    "\n",
    "    while guess != true_val:\n",
    "        a = str(input(f'Guess {guess_num}: '))\n",
    "        assert len(a) == 4\n",
    "\n",
    "        for idx, i in enumerate(a):\n",
    "            if i == true_val[idx]:\n",
    "                guess[idx] = i\n",
    "            else:\n",
    "                pass\n",
    "\n",
    "        if guess == true_val:\n",
    "            print(f\"Congratulations! You got the answer in {guess_num} attempt(s): {''.join([i for i in guess])} \")\n",
    "            if guess_num == 1:\n",
    "                print('You are a mastermind!')\n",
    "        else:\n",
    "            print(f\"Answer so far: {''.join([i for i in guess])} \")\n",
    "        guess_num += 1\n",
    "\n",
    "start_game()\n",
    "\n"
   ]
  },
  {
   "cell_type": "markdown",
   "metadata": {
    "collapsed": false
   },
   "source": [
    "If you want to go further, you can find the next instructions here - https://www.geeksforgeeks.org/mastermind-game-using-python/\n",
    "\n"
   ]
  }
 ],
 "metadata": {
  "colab": {
   "name": "Mastermind.ipynb",
   "provenance": [
   ]
  },
  "kernelspec": {
   "display_name": "Python 3 (Ubuntu Linux)",
   "language": "python",
   "name": "python3-ubuntu",
   "resource_dir": "/usr/local/share/jupyter/kernels/python3-ubuntu"
  },
  "language_info": {
   "codemirror_mode": {
    "name": "ipython",
    "version": 3
   },
   "file_extension": ".py",
   "mimetype": "text/x-python",
   "name": "python",
   "nbconvert_exporter": "python",
   "pygments_lexer": "ipython3",
   "version": "3.8.10"
  }
 },
 "nbformat": 4,
 "nbformat_minor": 4
}